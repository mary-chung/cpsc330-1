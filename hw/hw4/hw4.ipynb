{
 "cells": [
  {
   "cell_type": "markdown",
   "metadata": {},
   "source": [
    "# CPSC 330 - Applied Machine Learning \n",
    "\n",
    "## Homework 4: Logistic regression, hyperparameter optimization \n",
    "### Associated lectures: [Lectures 7, 8](https://ubc-cs.github.io/cpsc330/README.html) \n",
    "\n",
    "**Due date: ~~Wednesday, Oct 13, 2021 at 11:59pm~~**\n",
    "**Updated due date: Friday, Oct 15, 2021 at 11:59pm**\n"
   ]
  },
  {
   "cell_type": "markdown",
   "metadata": {},
   "source": [
    "## Imports "
   ]
  },
  {
   "cell_type": "code",
   "execution_count": 1,
   "metadata": {},
   "outputs": [],
   "source": [
    "import matplotlib.pyplot as plt\n",
    "import numpy as np\n",
    "import pandas as pd\n",
    "\n",
    "plt.rcParams[\"font.size\"] = 16\n",
    "\n",
    "from sklearn.dummy import DummyClassifier\n",
    "from sklearn.feature_extraction.text import CountVectorizer\n",
    "from sklearn.linear_model import LogisticRegression\n",
    "from sklearn.model_selection import (\n",
    "    GridSearchCV,\n",
    "    cross_val_score,\n",
    "    cross_validate,\n",
    "    train_test_split,\n",
    ")\n",
    "from sklearn.pipeline import Pipeline, make_pipeline\n",
    "from sklearn.tree import DecisionTreeClassifier"
   ]
  },
  {
   "cell_type": "markdown",
   "metadata": {},
   "source": [
    "## Instructions \n",
    "<hr>\n",
    "rubric={points:5}\n",
    "\n",
    "Follow the [homework submission instructions](https://github.com/UBC-CS/cpsc330/blob/master/docs/homework_instructions.md). \n",
    "\n",
    "**You may work with a partner on this homework and submit your assignment as a group.** Below are some instructions on working as a group.  \n",
    "- The maximum group size is 2. \n",
    "- Use group work as an opportunity to collaborate and learn new things from each other. \n",
    "- Be respectful to each other and make sure you understand all the concepts in the assignment well. \n",
    "- It's your responsibility to make sure that the assignment is submitted by one of the group members before the deadline. \n",
    "- You can find the instructions on how to do group submission on Gradescope [here](https://help.gradescope.com/article/m5qz2xsnjy-student-add-group-members).\n",
    "\n",
    "_Note: The assignments will get gradually more open-ended as we progress through the course. In many cases, there won't be a single correct solution. Sometimes you will have to make your own choices and your own decisions (for example, on what parameter values to use when they are not explicitly provided in the instructions). Use your own judgment in such cases and justify your choices, if necessary._"
   ]
  },
  {
   "cell_type": "markdown",
   "metadata": {},
   "source": [
    "<br><br><br><br>"
   ]
  },
  {
   "cell_type": "markdown",
   "metadata": {},
   "source": [
    "## Exercise 1: Implementing `DummyClassifier` \n",
    "<hr>\n",
    "rubric={points:25}\n",
    "\n",
    "In this course (unlike CPSC 340) you will generally **not** be asked to implement machine learning algorihtms (like logistic regression) from scratch. However, this exercise is an exception: you will implement the simplest possible classifier, `DummyClassifier`.\n",
    "\n",
    "As a reminder, `DummyClassifier` is meant as a baseline and is generally the worst possible \"model\" you could \"fit\" to a dataset. All it does is predict the most popular class in the training set. So if there are more 0s than 1s it predicts 0 every time, and if there are more 1s than 0s it predicts 1 every time. For `predict_proba` it looks at the frequencies in the training set, so if you have 30% 0's 70% 1's it predicts `[0.3 0.7]` every time. Thus, `fit` only looks at `y` (not `X`).\n",
    "\n",
    "Below you will find starter code for a class called `MyDummyClassifier`, which has methods `fit()`, `predict()`, `predict_proba()` and `score()`. Your task is to fill in those four functions. To get your started, I have given you a `return` statement in each case that returns the correct data type: `fit` can return nothing, `predict` returns an array whose size is the number of examples, `predict_proba` returns an array whose size is the number of examples x 2, and `score` returns a number.\n",
    "\n",
    "The next code block has some tests you can use to assess whether your code is working. \n",
    "\n",
    "I suggest starting with `fit` and `predict`, and making sure those are working before moving on to `predict_proba`. For `predict_proba`, you should return the frequency of each class in the training data, which is the behaviour of `DummyClassifier(strategy='prior')`. Your `score` function should call your `predict` function. Again, you can compare with `DummyClassifier` using the code below.\n",
    "\n",
    "To simplify this question, you can assume **binary classification**, and furthermore that these classes are **encoded as 0 and 1**. In other words, you can assume that `y` contains only 0s and 1s. The real `DummyClassifier` works when you have more than two classes, and also works if the target values are encoded differently, for example as \"cat\", \"dog\", \"mouse\", etc."
   ]
  },
  {
   "cell_type": "code",
   "execution_count": 2,
   "metadata": {},
   "outputs": [],
   "source": [
    "class MyDummyClassifier:\n",
    "    \"\"\"\n",
    "    A baseline classifier that predicts the most common class.\n",
    "    The predicted probabilities come from the relative frequencies\n",
    "    of the classes in the training data.\n",
    "\n",
    "    This implementation only works when y only contains 0s and 1s.\n",
    "    \"\"\"\n",
    "\n",
    "    def fit(self, X, y):\n",
    "        zeroes = 0\n",
    "        \n",
    "        for value in y:\n",
    "            if value == 0:\n",
    "                zeroes += 1\n",
    "                \n",
    "        self.probability = zeroes/len(y)\n",
    "        return None\n",
    " \n",
    "    def predict(self, X):\n",
    "        if self.probability >= 0.5:\n",
    "            return np.zeros(X.shape[0])  \n",
    "        else:\n",
    "            return np.ones(X.shape[0])\n",
    "\n",
    "    def predict_proba(self, X):\n",
    "        probabilities = [self.probability, 1 - self.probability]\n",
    "        return np.tile(probabilities, (X.shape[0], 1))\n",
    "        # return np.zeros((X.shape[0], 2))  # Replace with your code\n",
    "\n",
    "    def score(self, X, y):\n",
    "        actual_prediction = 0 if (self.probability >= 0.5) else 1\n",
    "        correct_prediction_count = 0\n",
    "        for target in y:\n",
    "            if target == actual_prediction:\n",
    "                correct_prediction_count += 1\n",
    "                \n",
    "        return correct_prediction_count/len(y)"
   ]
  },
  {
   "cell_type": "markdown",
   "metadata": {},
   "source": [
    "Below are some tests for `predict` using randomly generated data. You may want to run the cell a few times to make sure you explore the different cases (or automate this with a loop or random seeds)."
   ]
  },
  {
   "cell_type": "code",
   "execution_count": 3,
   "metadata": {},
   "outputs": [],
   "source": [
    "# For testing, generate random data\n",
    "n_train = 101\n",
    "n_valid = 21\n",
    "d = 5\n",
    "X_train_dummy = np.random.randn(n_train, d)\n",
    "X_valid_dummy = np.random.randn(n_valid, d)\n",
    "y_train_dummy = np.random.randint(2, size=n_train)\n",
    "y_valid_dummy = np.random.randint(2, size=n_valid)\n",
    "\n",
    "my_dc = MyDummyClassifier()\n",
    "sk_dc = DummyClassifier(strategy=\"prior\")\n",
    "\n",
    "my_dc.fit(X_train_dummy, y_train_dummy)\n",
    "sk_dc.fit(X_train_dummy, y_train_dummy)\n",
    "\n",
    "assert np.array_equal(my_dc.predict(X_train_dummy), sk_dc.predict(X_train_dummy))\n",
    "assert np.array_equal(my_dc.predict(X_valid_dummy), sk_dc.predict(X_valid_dummy))"
   ]
  },
  {
   "cell_type": "markdown",
   "metadata": {},
   "source": [
    "Below are some tests for `predict_proba`."
   ]
  },
  {
   "cell_type": "code",
   "execution_count": 4,
   "metadata": {},
   "outputs": [],
   "source": [
    "assert np.allclose(\n",
    "    my_dc.predict_proba(X_train_dummy), sk_dc.predict_proba(X_train_dummy)\n",
    ")\n",
    "assert np.allclose(\n",
    "    my_dc.predict_proba(X_valid_dummy), sk_dc.predict_proba(X_valid_dummy)\n",
    ")"
   ]
  },
  {
   "cell_type": "markdown",
   "metadata": {},
   "source": [
    "Below are some tests for `score`."
   ]
  },
  {
   "cell_type": "code",
   "execution_count": 5,
   "metadata": {},
   "outputs": [],
   "source": [
    "assert np.isclose(\n",
    "    my_dc.score(X_train_dummy, y_train_dummy), sk_dc.score(X_train_dummy, y_train_dummy)\n",
    ")\n",
    "assert np.isclose(\n",
    "    my_dc.score(X_valid_dummy, y_valid_dummy), sk_dc.score(X_valid_dummy, y_valid_dummy)\n",
    ")"
   ]
  },
  {
   "cell_type": "markdown",
   "metadata": {},
   "source": [
    "<br><br><br><br>"
   ]
  },
  {
   "cell_type": "markdown",
   "metadata": {
    "nbgrader": {
     "grade": false,
     "grade_id": "cell-8e3cc53df86a7e14",
     "locked": true,
     "schema_version": 3,
     "solution": false,
     "task": false
    },
    "toc-hr-collapsed": true
   },
   "source": [
    "## Exercise 2: Trump Tweets\n",
    "<hr>\n",
    "\n",
    "For the rest of this assignment we'll be looking at a [dataset of Donald Trump's tweets](https://www.kaggle.com/austinreese/trump-tweets) as of June 2020. You should start by downloading the dataset. Unzip it and move the file `realdonaldtrump.csv` into this directory. As usual, please do not submit the dataset when you submit the assignment. "
   ]
  },
  {
   "cell_type": "code",
   "execution_count": 6,
   "metadata": {},
   "outputs": [
    {
     "data": {
      "text/html": [
       "<div>\n",
       "<style scoped>\n",
       "    .dataframe tbody tr th:only-of-type {\n",
       "        vertical-align: middle;\n",
       "    }\n",
       "\n",
       "    .dataframe tbody tr th {\n",
       "        vertical-align: top;\n",
       "    }\n",
       "\n",
       "    .dataframe thead th {\n",
       "        text-align: right;\n",
       "    }\n",
       "</style>\n",
       "<table border=\"1\" class=\"dataframe\">\n",
       "  <thead>\n",
       "    <tr style=\"text-align: right;\">\n",
       "      <th></th>\n",
       "      <th>link</th>\n",
       "      <th>content</th>\n",
       "      <th>date</th>\n",
       "      <th>retweets</th>\n",
       "      <th>favorites</th>\n",
       "      <th>mentions</th>\n",
       "      <th>hashtags</th>\n",
       "    </tr>\n",
       "    <tr>\n",
       "      <th>id</th>\n",
       "      <th></th>\n",
       "      <th></th>\n",
       "      <th></th>\n",
       "      <th></th>\n",
       "      <th></th>\n",
       "      <th></th>\n",
       "      <th></th>\n",
       "    </tr>\n",
       "  </thead>\n",
       "  <tbody>\n",
       "    <tr>\n",
       "      <th>1698308935</th>\n",
       "      <td>https://twitter.com/realDonaldTrump/status/169...</td>\n",
       "      <td>Be sure to tune in and watch Donald Trump on L...</td>\n",
       "      <td>2009-05-04 13:54:25</td>\n",
       "      <td>510</td>\n",
       "      <td>917</td>\n",
       "      <td>NaN</td>\n",
       "      <td>NaN</td>\n",
       "    </tr>\n",
       "    <tr>\n",
       "      <th>1701461182</th>\n",
       "      <td>https://twitter.com/realDonaldTrump/status/170...</td>\n",
       "      <td>Donald Trump will be appearing on The View tom...</td>\n",
       "      <td>2009-05-04 20:00:10</td>\n",
       "      <td>34</td>\n",
       "      <td>267</td>\n",
       "      <td>NaN</td>\n",
       "      <td>NaN</td>\n",
       "    </tr>\n",
       "    <tr>\n",
       "      <th>1737479987</th>\n",
       "      <td>https://twitter.com/realDonaldTrump/status/173...</td>\n",
       "      <td>Donald Trump reads Top Ten Financial Tips on L...</td>\n",
       "      <td>2009-05-08 08:38:08</td>\n",
       "      <td>13</td>\n",
       "      <td>19</td>\n",
       "      <td>NaN</td>\n",
       "      <td>NaN</td>\n",
       "    </tr>\n",
       "    <tr>\n",
       "      <th>1741160716</th>\n",
       "      <td>https://twitter.com/realDonaldTrump/status/174...</td>\n",
       "      <td>New Blog Post: Celebrity Apprentice Finale and...</td>\n",
       "      <td>2009-05-08 15:40:15</td>\n",
       "      <td>11</td>\n",
       "      <td>26</td>\n",
       "      <td>NaN</td>\n",
       "      <td>NaN</td>\n",
       "    </tr>\n",
       "    <tr>\n",
       "      <th>1773561338</th>\n",
       "      <td>https://twitter.com/realDonaldTrump/status/177...</td>\n",
       "      <td>\"My persona will never be that of a wallflower...</td>\n",
       "      <td>2009-05-12 09:07:28</td>\n",
       "      <td>1375</td>\n",
       "      <td>1945</td>\n",
       "      <td>NaN</td>\n",
       "      <td>NaN</td>\n",
       "    </tr>\n",
       "  </tbody>\n",
       "</table>\n",
       "</div>"
      ],
      "text/plain": [
       "                                                         link  \\\n",
       "id                                                              \n",
       "1698308935  https://twitter.com/realDonaldTrump/status/169...   \n",
       "1701461182  https://twitter.com/realDonaldTrump/status/170...   \n",
       "1737479987  https://twitter.com/realDonaldTrump/status/173...   \n",
       "1741160716  https://twitter.com/realDonaldTrump/status/174...   \n",
       "1773561338  https://twitter.com/realDonaldTrump/status/177...   \n",
       "\n",
       "                                                      content  \\\n",
       "id                                                              \n",
       "1698308935  Be sure to tune in and watch Donald Trump on L...   \n",
       "1701461182  Donald Trump will be appearing on The View tom...   \n",
       "1737479987  Donald Trump reads Top Ten Financial Tips on L...   \n",
       "1741160716  New Blog Post: Celebrity Apprentice Finale and...   \n",
       "1773561338  \"My persona will never be that of a wallflower...   \n",
       "\n",
       "                           date  retweets  favorites mentions hashtags  \n",
       "id                                                                      \n",
       "1698308935  2009-05-04 13:54:25       510        917      NaN      NaN  \n",
       "1701461182  2009-05-04 20:00:10        34        267      NaN      NaN  \n",
       "1737479987  2009-05-08 08:38:08        13         19      NaN      NaN  \n",
       "1741160716  2009-05-08 15:40:15        11         26      NaN      NaN  \n",
       "1773561338  2009-05-12 09:07:28      1375       1945      NaN      NaN  "
      ]
     },
     "execution_count": 6,
     "metadata": {},
     "output_type": "execute_result"
    }
   ],
   "source": [
    "tweets_df = pd.read_csv(\"realdonaldtrump.csv\", index_col=0)\n",
    "tweets_df.head()"
   ]
  },
  {
   "cell_type": "code",
   "execution_count": 7,
   "metadata": {},
   "outputs": [
    {
     "data": {
      "text/plain": [
       "(43352, 7)"
      ]
     },
     "execution_count": 7,
     "metadata": {},
     "output_type": "execute_result"
    }
   ],
   "source": [
    "tweets_df.shape"
   ]
  },
  {
   "cell_type": "markdown",
   "metadata": {},
   "source": [
    "We will be trying to predict whether a tweet will go \"viral\", defined as having more than 10,000 retweets:"
   ]
  },
  {
   "cell_type": "code",
   "execution_count": 8,
   "metadata": {},
   "outputs": [
    {
     "data": {
      "text/plain": [
       "id\n",
       "1698308935             False\n",
       "1701461182             False\n",
       "1737479987             False\n",
       "1741160716             False\n",
       "1773561338             False\n",
       "                       ...  \n",
       "1273405198698975232     True\n",
       "1273408026968457216     True\n",
       "1273442195161387008    False\n",
       "1273442469066276864    False\n",
       "1273442528411385858    False\n",
       "Name: retweets, Length: 43352, dtype: bool"
      ]
     },
     "execution_count": 8,
     "metadata": {},
     "output_type": "execute_result"
    }
   ],
   "source": [
    "y = tweets_df[\"retweets\"] > 10_000\n",
    "y"
   ]
  },
  {
   "cell_type": "markdown",
   "metadata": {},
   "source": [
    "To make predictions, we'll be using only the content (text) of the tweet. "
   ]
  },
  {
   "cell_type": "code",
   "execution_count": 9,
   "metadata": {},
   "outputs": [
    {
     "data": {
      "text/plain": [
       "id\n",
       "1698308935             Be sure to tune in and watch Donald Trump on L...\n",
       "1701461182             Donald Trump will be appearing on The View tom...\n",
       "1737479987             Donald Trump reads Top Ten Financial Tips on L...\n",
       "1741160716             New Blog Post: Celebrity Apprentice Finale and...\n",
       "1773561338             \"My persona will never be that of a wallflower...\n",
       "                                             ...                        \n",
       "1273405198698975232    Joe Biden was a TOTAL FAILURE in Government. H...\n",
       "1273408026968457216    Will be interviewed on @ seanhannity tonight a...\n",
       "1273442195161387008                           pic.twitter.com/3lm1spbU8X\n",
       "1273442469066276864                           pic.twitter.com/vpCE5MadUz\n",
       "1273442528411385858                           pic.twitter.com/VLlc0BHW41\n",
       "Name: content, Length: 43352, dtype: object"
      ]
     },
     "execution_count": 9,
     "metadata": {},
     "output_type": "execute_result"
    }
   ],
   "source": [
    "X = tweets_df[\"content\"]\n",
    "X"
   ]
  },
  {
   "cell_type": "markdown",
   "metadata": {},
   "source": [
    "For the purpose of this assignment, you can ignore all the other columns in the original dataset."
   ]
  },
  {
   "cell_type": "markdown",
   "metadata": {},
   "source": [
    "#### 2(a) ordering the steps\n",
    "rubric={points:8}"
   ]
  },
  {
   "cell_type": "markdown",
   "metadata": {},
   "source": [
    "Let's start by building a model using `CountVectorizer` and `LogisticRegression`. The code required to do this has been provided below, but in the wrong order. \n",
    "\n",
    "- Rearrange the lines of code to correctly fit the model and compute the cross-validation score. \n",
    "- Add a short comment to each block to describe what the code is doing."
   ]
  },
  {
   "cell_type": "code",
   "execution_count": 10,
   "metadata": {
    "tags": [
     "raises-exception"
    ]
   },
   "outputs": [
    {
     "data": {
      "text/plain": [
       "fit_time       1.570571\n",
       "score_time     0.177127\n",
       "test_score     0.897890\n",
       "train_score    0.967045\n",
       "dtype: float64"
      ]
     },
     "execution_count": 10,
     "metadata": {},
     "output_type": "execute_result"
    }
   ],
   "source": [
    "# split the data\n",
    "X_train, X_test, y_train, y_test = train_test_split(X, y, random_state=321)\n",
    "\n",
    "# set up the CountVectorizer transformer for bag of words\n",
    "countvec = CountVectorizer(stop_words=\"english\")\n",
    "\n",
    "# set up the LogisticRegression model\n",
    "lr = LogisticRegression(max_iter=1000)\n",
    "\n",
    "# make a pipeline with our transfomer and model\n",
    "pipe = make_pipeline(countvec, lr)\n",
    "\n",
    "# cross validatation scores\n",
    "cross_val_results = pd.DataFrame(\n",
    "    cross_validate(pipe, X_train, y_train, return_train_score=True)\n",
    ")\n",
    "\n",
    "\n",
    "# find means of cross validation results\n",
    "cross_val_results.mean()\n",
    "\n"
   ]
  },
  {
   "cell_type": "markdown",
   "metadata": {},
   "source": [
    "<br><br>"
   ]
  },
  {
   "cell_type": "markdown",
   "metadata": {},
   "source": [
    "#### 2(b) Cross-validation fold sub-scores\n",
    "rubric={points:5}\n",
    "\n",
    "Above we averaged the scores from the 5 folds of cross-validation. \n",
    "\n",
    "- Print out the 5 individual scores. Reminder: `sklearn` calls them `\"test_score\"` but they are really (cross-)validation scores. \n",
    "- Are the 5 scores close to each other or spread far apart? (This is a bit subjective, answer to the best of your ability.)\n",
    "- How does the size of this dataset (number of rows) compare to the cities dataset we have been using in class? How does this relate to the different sub-scores from the 5 folds?"
   ]
  },
  {
   "cell_type": "code",
   "execution_count": 11,
   "metadata": {},
   "outputs": [
    {
     "data": {
      "text/plain": [
       "0    0.899123\n",
       "1    0.899739\n",
       "2    0.896356\n",
       "3    0.898201\n",
       "4    0.896032\n",
       "Name: test_score, dtype: float64"
      ]
     },
     "execution_count": 11,
     "metadata": {},
     "output_type": "execute_result"
    }
   ],
   "source": [
    "cross_val_results[\"test_score\"]"
   ]
  },
  {
   "cell_type": "code",
   "execution_count": 12,
   "metadata": {},
   "outputs": [
    {
     "data": {
      "text/plain": [
       "0.0014725591589632206"
      ]
     },
     "execution_count": 12,
     "metadata": {},
     "output_type": "execute_result"
    }
   ],
   "source": [
    "np.std(cross_val_results[\"test_score\"])"
   ]
  },
  {
   "cell_type": "markdown",
   "metadata": {},
   "source": [
    "The 5 scores seem close to each other; in my opinion, the standard deviation is rather low."
   ]
  },
  {
   "cell_type": "markdown",
   "metadata": {},
   "source": [
    "The cities dataset has far fewer rows than the Trump dataset (209 < 43352 rows). Smaller datasets will likely have a higher difference between fold scores during cross validation."
   ]
  },
  {
   "cell_type": "markdown",
   "metadata": {},
   "source": [
    "<br><br>"
   ]
  },
  {
   "cell_type": "markdown",
   "metadata": {},
   "source": [
    "#### 2(c) baseline\n",
    "rubric={points:3}\n",
    "\n",
    "By the way, are these scores any good? \n",
    "\n",
    "- Run `DummyClassifier` (or `MyDummyClassifier`!) on this dataset.\n",
    "- Compare the `DummyClassifier` score to what you got from logistic regression above. Does logistic regression seem to be doing anything useful?\n",
    "- Is it necessary to use `CountVectorizer` here? Briefly explain."
   ]
  },
  {
   "cell_type": "code",
   "execution_count": 13,
   "metadata": {},
   "outputs": [
    {
     "data": {
      "text/html": [
       "<div>\n",
       "<style scoped>\n",
       "    .dataframe tbody tr th:only-of-type {\n",
       "        vertical-align: middle;\n",
       "    }\n",
       "\n",
       "    .dataframe tbody tr th {\n",
       "        vertical-align: top;\n",
       "    }\n",
       "\n",
       "    .dataframe thead th {\n",
       "        text-align: right;\n",
       "    }\n",
       "</style>\n",
       "<table border=\"1\" class=\"dataframe\">\n",
       "  <thead>\n",
       "    <tr style=\"text-align: right;\">\n",
       "      <th></th>\n",
       "      <th>fit_time</th>\n",
       "      <th>score_time</th>\n",
       "      <th>test_score</th>\n",
       "      <th>train_score</th>\n",
       "    </tr>\n",
       "  </thead>\n",
       "  <tbody>\n",
       "    <tr>\n",
       "      <th>0</th>\n",
       "      <td>0.588423</td>\n",
       "      <td>0.127660</td>\n",
       "      <td>0.738582</td>\n",
       "      <td>0.738534</td>\n",
       "    </tr>\n",
       "    <tr>\n",
       "      <th>1</th>\n",
       "      <td>0.566523</td>\n",
       "      <td>0.121636</td>\n",
       "      <td>0.738582</td>\n",
       "      <td>0.738534</td>\n",
       "    </tr>\n",
       "    <tr>\n",
       "      <th>2</th>\n",
       "      <td>0.581484</td>\n",
       "      <td>0.139585</td>\n",
       "      <td>0.738582</td>\n",
       "      <td>0.738534</td>\n",
       "    </tr>\n",
       "    <tr>\n",
       "      <th>3</th>\n",
       "      <td>0.582478</td>\n",
       "      <td>0.122633</td>\n",
       "      <td>0.738428</td>\n",
       "      <td>0.738572</td>\n",
       "    </tr>\n",
       "    <tr>\n",
       "      <th>4</th>\n",
       "      <td>0.595407</td>\n",
       "      <td>0.129653</td>\n",
       "      <td>0.738542</td>\n",
       "      <td>0.738544</td>\n",
       "    </tr>\n",
       "  </tbody>\n",
       "</table>\n",
       "</div>"
      ],
      "text/plain": [
       "   fit_time  score_time  test_score  train_score\n",
       "0  0.588423    0.127660    0.738582     0.738534\n",
       "1  0.566523    0.121636    0.738582     0.738534\n",
       "2  0.581484    0.139585    0.738582     0.738534\n",
       "3  0.582478    0.122633    0.738428     0.738572\n",
       "4  0.595407    0.129653    0.738542     0.738544"
      ]
     },
     "execution_count": 13,
     "metadata": {},
     "output_type": "execute_result"
    }
   ],
   "source": [
    "dummy = DummyClassifier()\n",
    "dummy_pipe = make_pipeline(countvec, dummy)\n",
    "\n",
    "dummy_cv_results = pd.DataFrame(cross_validate(dummy_pipe, X_train, y_train, return_train_score = True))\n",
    "dummy_cv_results"
   ]
  },
  {
   "cell_type": "markdown",
   "metadata": {},
   "source": [
    "DummyClassifier got a lower test score than LogisticRegression, so it shows that LogisticRegression is helpful.\n",
    "\n",
    "It's not necessary to use CountVectorizer here because the dummy classifier uses just the targets to fit, predict, and score. The target is just binary (False/True, or 0/1)"
   ]
  },
  {
   "cell_type": "markdown",
   "metadata": {},
   "source": [
    "<br><br>"
   ]
  },
  {
   "cell_type": "markdown",
   "metadata": {
    "nbgrader": {
     "grade": false,
     "grade_id": "cell-ba1f8ea22638cf75",
     "locked": true,
     "schema_version": 3,
     "solution": false,
     "task": false
    }
   },
   "source": [
    "#### 2(d) probability scores\n",
    "rubric={points:5}\n",
    "\n",
    "Here we train a logistic regression classifier on the entire training set: \n",
    "\n",
    "(Note: this is relying on the `pipe` variable from 2(a) - you'll need to redefine it if you overwrote that variable in between.)"
   ]
  },
  {
   "cell_type": "code",
   "execution_count": 14,
   "metadata": {},
   "outputs": [],
   "source": [
    "pipe.fit(X_train, y_train);"
   ]
  },
  {
   "cell_type": "markdown",
   "metadata": {},
   "source": [
    "Using this model, find the tweet in the **test set** with the highest predicted probability of being viral. Print out the tweet and the associated probability score.\n",
    "\n",
    "Reminder: you are free to reuse/adapt code from lecture. Please add in a small attribution, e.g. \"From Lecture 7\"."
   ]
  },
  {
   "cell_type": "code",
   "execution_count": 15,
   "metadata": {},
   "outputs": [
    {
     "data": {
      "text/plain": [
       "array([False,  True])"
      ]
     },
     "execution_count": 15,
     "metadata": {},
     "output_type": "execute_result"
    }
   ],
   "source": [
    "pipe.classes_\n",
    "# so the second class is true = viral"
   ]
  },
  {
   "cell_type": "code",
   "execution_count": 16,
   "metadata": {},
   "outputs": [],
   "source": [
    "viral_probs = pipe.predict_proba(X_test)[:, 1]"
   ]
  },
  {
   "cell_type": "code",
   "execution_count": 17,
   "metadata": {},
   "outputs": [
    {
     "name": "stdout",
     "output_type": "stream",
     "text": [
      "proba of being viral: 0.9999999325256309\n",
      "tweet: Corrupt politician Adam Schiff wants people from the White House to testify in his and Pelosi’s disgraceful Witch Hunt, yet he will not allow a White House lawyer, nor will he allow ANY of our requested witnesses. This is a first in due process and Congressional history!\n"
     ]
    }
   ],
   "source": [
    "# from lecture 7\n",
    "most_positive = np.argmax(viral_probs)\n",
    "print(\"proba of being viral:\", np.max(viral_probs))\n",
    "print(\"tweet: \" + X_test.iloc[most_positive])"
   ]
  },
  {
   "cell_type": "raw",
   "metadata": {},
   "source": [
    "'''alternate: NOT PART OF GRADING\n",
    "positive_proba = []\n",
    "for row in pipe.predict_proba(X_test):\n",
    "    positive_proba.append(row[1])\n",
    "    \n",
    "df = pd.DataFrame({\"tweet\": X_test, \"proba\": viral_probs})\n",
    "viral_index = df[\"proba\"].idxmax()\n",
    "print(df.loc[viral_index].proba)\n",
    "print(df.loc[viral_index].tweet)\n",
    "'''"
   ]
  },
  {
   "cell_type": "markdown",
   "metadata": {},
   "source": [
    "<br><br>"
   ]
  },
  {
   "cell_type": "markdown",
   "metadata": {
    "nbgrader": {
     "grade": false,
     "grade_id": "cell-f910e9d1d6d09182",
     "locked": true,
     "schema_version": 3,
     "solution": false,
     "task": false
    }
   },
   "source": [
    "#### 2(e) coefficients\n",
    "rubric={points:4}\n",
    "\n",
    "We can extract the `CountVectorizer` and `LogisticRegression` objects from the `make_pipeline` object as follows:\n"
   ]
  },
  {
   "cell_type": "code",
   "execution_count": 18,
   "metadata": {},
   "outputs": [],
   "source": [
    "vec_from_pipe = pipe.named_steps[\"countvectorizer\"]\n",
    "lr_from_pipe = pipe.named_steps[\"logisticregression\"]"
   ]
  },
  {
   "cell_type": "markdown",
   "metadata": {},
   "source": [
    "Using these extracted components above, display the 5 words with the highest coefficients and the 5 words with the smallest coefficients."
   ]
  },
  {
   "cell_type": "code",
   "execution_count": 19,
   "metadata": {},
   "outputs": [],
   "source": [
    "words = vec_from_pipe.get_feature_names()\n",
    "coefs = lr_from_pipe.coef_.flatten()"
   ]
  },
  {
   "cell_type": "code",
   "execution_count": 20,
   "metadata": {},
   "outputs": [],
   "source": [
    "# from lecture 7\n",
    "words_coefs_df = pd.DataFrame({\"coefs\": coefs}, index = words)"
   ]
  },
  {
   "cell_type": "code",
   "execution_count": 21,
   "metadata": {},
   "outputs": [
    {
     "data": {
      "text/html": [
       "<div>\n",
       "<style scoped>\n",
       "    .dataframe tbody tr th:only-of-type {\n",
       "        vertical-align: middle;\n",
       "    }\n",
       "\n",
       "    .dataframe tbody tr th {\n",
       "        vertical-align: top;\n",
       "    }\n",
       "\n",
       "    .dataframe thead th {\n",
       "        text-align: right;\n",
       "    }\n",
       "</style>\n",
       "<table border=\"1\" class=\"dataframe\">\n",
       "  <thead>\n",
       "    <tr style=\"text-align: right;\">\n",
       "      <th></th>\n",
       "      <th>coefs</th>\n",
       "    </tr>\n",
       "  </thead>\n",
       "  <tbody>\n",
       "    <tr>\n",
       "      <th>harassment</th>\n",
       "      <td>2.731878</td>\n",
       "    </tr>\n",
       "    <tr>\n",
       "      <th>mini</th>\n",
       "      <td>2.712457</td>\n",
       "    </tr>\n",
       "    <tr>\n",
       "      <th>fake</th>\n",
       "      <td>2.692750</td>\n",
       "    </tr>\n",
       "    <tr>\n",
       "      <th>coronavirus</th>\n",
       "      <td>2.434308</td>\n",
       "    </tr>\n",
       "    <tr>\n",
       "      <th>transcripts</th>\n",
       "      <td>2.380538</td>\n",
       "    </tr>\n",
       "  </tbody>\n",
       "</table>\n",
       "</div>"
      ],
      "text/plain": [
       "                coefs\n",
       "harassment   2.731878\n",
       "mini         2.712457\n",
       "fake         2.692750\n",
       "coronavirus  2.434308\n",
       "transcripts  2.380538"
      ]
     },
     "execution_count": 21,
     "metadata": {},
     "output_type": "execute_result"
    }
   ],
   "source": [
    "# 5 words with highest coefs\n",
    "words_coefs_df.sort_values(by = \"coefs\", ascending = False).iloc[:5]"
   ]
  },
  {
   "cell_type": "code",
   "execution_count": 22,
   "metadata": {},
   "outputs": [
    {
     "data": {
      "text/html": [
       "<div>\n",
       "<style scoped>\n",
       "    .dataframe tbody tr th:only-of-type {\n",
       "        vertical-align: middle;\n",
       "    }\n",
       "\n",
       "    .dataframe tbody tr th {\n",
       "        vertical-align: top;\n",
       "    }\n",
       "\n",
       "    .dataframe thead th {\n",
       "        text-align: right;\n",
       "    }\n",
       "</style>\n",
       "<table border=\"1\" class=\"dataframe\">\n",
       "  <thead>\n",
       "    <tr style=\"text-align: right;\">\n",
       "      <th></th>\n",
       "      <th>coefs</th>\n",
       "    </tr>\n",
       "  </thead>\n",
       "  <tbody>\n",
       "    <tr>\n",
       "      <th>realdonaldtrump</th>\n",
       "      <td>-3.116937</td>\n",
       "    </tr>\n",
       "    <tr>\n",
       "      <th>trump2016pic</th>\n",
       "      <td>-2.637226</td>\n",
       "    </tr>\n",
       "    <tr>\n",
       "      <th>barackobama</th>\n",
       "      <td>-2.565315</td>\n",
       "    </tr>\n",
       "    <tr>\n",
       "      <th>trump2016</th>\n",
       "      <td>-2.315996</td>\n",
       "    </tr>\n",
       "    <tr>\n",
       "      <th>1pic</th>\n",
       "      <td>-2.295018</td>\n",
       "    </tr>\n",
       "  </tbody>\n",
       "</table>\n",
       "</div>"
      ],
      "text/plain": [
       "                    coefs\n",
       "realdonaldtrump -3.116937\n",
       "trump2016pic    -2.637226\n",
       "barackobama     -2.565315\n",
       "trump2016       -2.315996\n",
       "1pic            -2.295018"
      ]
     },
     "execution_count": 22,
     "metadata": {},
     "output_type": "execute_result"
    }
   ],
   "source": [
    "# 5 words with lowest coefs \n",
    "words_coefs_df.sort_values(by = \"coefs\").iloc[:5]"
   ]
  },
  {
   "cell_type": "markdown",
   "metadata": {},
   "source": [
    "<br><br>"
   ]
  },
  {
   "cell_type": "markdown",
   "metadata": {},
   "source": [
    "#### 2(f)\n",
    "rubric={points:10}\n",
    "\n",
    "scikit-learn provides a lot of useful tools like `make_pipeline` and `cross_validate`, which are awesome. But with these fancy tools it's also easy to lose track of what is actually happening under the hood. Here, your task is to \"manually\" (without `Pipeline` and without `cross_validate` or `cross_val_score`) compute logistic regression's validation score on one fold (that is, train on 80% and validate on 20%) of the training data. \n",
    "\n",
    "You should start with the following `CountVectorizer` and `LogisticRegression` objects, as well as `X_train` and `y_train` (which you should further split):"
   ]
  },
  {
   "cell_type": "code",
   "execution_count": 23,
   "metadata": {},
   "outputs": [],
   "source": [
    "countvec = CountVectorizer(stop_words=\"english\")\n",
    "lr = LogisticRegression(max_iter=1000)"
   ]
  },
  {
   "cell_type": "markdown",
   "metadata": {},
   "source": [
    "Meta-comment: you might be wondering why we're going into \"implementation\" here if this course is about _applied_ ML. In CPSC 340, we would go all the way down into `LogisticRegression` and understand how `fit` works, line by line. Here we're not going into that at all, but I still think this type of question (and Exercise 1) is a useful middle ground. I do want you to know what is going on in `Pipeline` and in `cross_validate` even if we don't cover the details of `fit`. To get into logistic regression's `fit` requires a bunch of math; here, we're keeping it more conceptual and avoiding all those prerequisites."
   ]
  },
  {
   "cell_type": "code",
   "execution_count": 24,
   "metadata": {},
   "outputs": [
    {
     "data": {
      "text/plain": [
       "0.8932800246040289"
      ]
     },
     "execution_count": 24,
     "metadata": {},
     "output_type": "execute_result"
    }
   ],
   "source": [
    "# split the data\n",
    "X_train_train, X_train_val, y_train_train, y_train_val = train_test_split(X_train, y_train, test_size = 0.2, random_state=321)\n",
    "\n",
    "# fit_transform on training subset, only transform on validation subset\n",
    "X_train_train_cv = countvec.fit_transform(X_train_train)\n",
    "X_train_val_cv = countvec.transform(X_train_val)\n",
    "\n",
    "# fit the model on training subset\n",
    "lr.fit(X_train_train_cv, y_train_train)\n",
    "\n",
    "# score on the validation fold\n",
    "lr.score(X_train_val_cv, y_train_val)\n",
    "\n"
   ]
  },
  {
   "cell_type": "markdown",
   "metadata": {},
   "source": [
    "<br><br><br><br>"
   ]
  },
  {
   "cell_type": "markdown",
   "metadata": {
    "toc-hr-collapsed": true
   },
   "source": [
    "## Exercise 3: hyperparameter optimization\n",
    "<hr>"
   ]
  },
  {
   "cell_type": "markdown",
   "metadata": {
    "nbgrader": {
     "grade": false,
     "grade_id": "cell-5e9e6fdea209d872",
     "locked": true,
     "schema_version": 3,
     "solution": false,
     "task": false
    }
   },
   "source": [
    "#### 3(a)\n",
    "rubric={points:4}\n",
    "\n",
    "The following code varies the `max_features` hyperparameter of `CountVectorizer` and makes a plot (with the x-axis on a log scale) that shows train/cross-validation scores vs. `max_features`. It also prints the results. Based on the plot/output, what value of `max_features` seems best? Briefly explain.\n",
    "\n",
    "Note: the code may take a minute or two to run. You can uncomment the `print` statement if you want to see it show the progress."
   ]
  },
  {
   "cell_type": "code",
   "execution_count": 25,
   "metadata": {},
   "outputs": [
    {
     "data": {
      "image/png": "[encoded data removed]",
      "text/plain": [
       "<Figure size 432x288 with 1 Axes>"
      ]
     },
     "metadata": {
      "needs_background": "light"
     },
     "output_type": "display_data"
    }
   ],
   "source": [
    "train_scores = []\n",
    "cv_scores = []\n",
    "\n",
    "max_features = [10, 100, 1000, 10_000, 100_000]\n",
    "\n",
    "for mf in max_features:\n",
    "    #     print(mf)\n",
    "    pipe = make_pipeline(\n",
    "        CountVectorizer(stop_words=\"english\", max_features=mf),\n",
    "        LogisticRegression(max_iter=1000),\n",
    "    )\n",
    "    cv_results = cross_validate(pipe, X_train, y_train, return_train_score=True)\n",
    "    train_scores.append(cv_results[\"train_score\"].mean())\n",
    "    cv_scores.append(cv_results[\"test_score\"].mean())\n",
    "\n",
    "plt.semilogx(max_features, train_scores, label=\"train\")\n",
    "plt.semilogx(max_features, cv_scores, label=\"valid\")\n",
    "plt.legend()\n",
    "plt.xlabel(\"max_features\")\n",
    "plt.ylabel(\"accuracy\");"
   ]
  },
  {
   "cell_type": "code",
   "execution_count": 26,
   "metadata": {},
   "outputs": [
    {
     "data": {
      "text/html": [
       "<div>\n",
       "<style scoped>\n",
       "    .dataframe tbody tr th:only-of-type {\n",
       "        vertical-align: middle;\n",
       "    }\n",
       "\n",
       "    .dataframe tbody tr th {\n",
       "        vertical-align: top;\n",
       "    }\n",
       "\n",
       "    .dataframe thead th {\n",
       "        text-align: right;\n",
       "    }\n",
       "</style>\n",
       "<table border=\"1\" class=\"dataframe\">\n",
       "  <thead>\n",
       "    <tr style=\"text-align: right;\">\n",
       "      <th></th>\n",
       "      <th>max_features</th>\n",
       "      <th>train</th>\n",
       "      <th>cv</th>\n",
       "    </tr>\n",
       "  </thead>\n",
       "  <tbody>\n",
       "    <tr>\n",
       "      <th>0</th>\n",
       "      <td>10</td>\n",
       "      <td>0.767854</td>\n",
       "      <td>0.766593</td>\n",
       "    </tr>\n",
       "    <tr>\n",
       "      <th>1</th>\n",
       "      <td>100</td>\n",
       "      <td>0.838900</td>\n",
       "      <td>0.837147</td>\n",
       "    </tr>\n",
       "    <tr>\n",
       "      <th>2</th>\n",
       "      <td>1000</td>\n",
       "      <td>0.904618</td>\n",
       "      <td>0.887956</td>\n",
       "    </tr>\n",
       "    <tr>\n",
       "      <th>3</th>\n",
       "      <td>10000</td>\n",
       "      <td>0.951498</td>\n",
       "      <td>0.896537</td>\n",
       "    </tr>\n",
       "    <tr>\n",
       "      <th>4</th>\n",
       "      <td>100000</td>\n",
       "      <td>0.967045</td>\n",
       "      <td>0.897890</td>\n",
       "    </tr>\n",
       "  </tbody>\n",
       "</table>\n",
       "</div>"
      ],
      "text/plain": [
       "   max_features     train        cv\n",
       "0            10  0.767854  0.766593\n",
       "1           100  0.838900  0.837147\n",
       "2          1000  0.904618  0.887956\n",
       "3         10000  0.951498  0.896537\n",
       "4        100000  0.967045  0.897890"
      ]
     },
     "execution_count": 26,
     "metadata": {},
     "output_type": "execute_result"
    }
   ],
   "source": [
    "cv_df = pd.DataFrame({\"max_features\": max_features, \"train\": train_scores, \"cv\": cv_scores})\n",
    "cv_df"
   ]
  },
  {
   "cell_type": "code",
   "execution_count": 27,
   "metadata": {},
   "outputs": [
    {
     "name": "stdout",
     "output_type": "stream",
     "text": [
      "best max_features:  100000.0\n",
      "best cv: 0.8978900824847041\n"
     ]
    }
   ],
   "source": [
    "index = cv_df.idxmax()[\"cv\"]\n",
    "print(\"best max_features: \", cv_df.iloc[index][\"max_features\"])\n",
    "print(\"best cv:\", cv_df.iloc[index][\"cv\"])"
   ]
  },
  {
   "cell_type": "markdown",
   "metadata": {},
   "source": [
    "max_features = 100000 seems the best because it gives the best test (cv) score. "
   ]
  },
  {
   "cell_type": "markdown",
   "metadata": {},
   "source": [
    "<br><br>"
   ]
  },
  {
   "cell_type": "markdown",
   "metadata": {},
   "source": [
    "#### 3(b)\n",
    "rubric={points:4}\n",
    "\n",
    "The following code varies the `C` hyperparameter of `LogisticRegression` and makes a plot (with the x-axis on a log scale) that shows train/cross-validation scores vs. `C`. Based on the plot, what value of `C` seems best?\n",
    "\n",
    "Note: the code may take a minute or two to run. You can uncomment the `print` statement if you want to see it show the progress."
   ]
  },
  {
   "cell_type": "code",
   "execution_count": 28,
   "metadata": {},
   "outputs": [
    {
     "data": {
      "image/png": "[encoded data removed]",
      "text/plain": [
       "<Figure size 432x288 with 1 Axes>"
      ]
     },
     "metadata": {
      "needs_background": "light"
     },
     "output_type": "display_data"
    }
   ],
   "source": [
    "train_scores = []\n",
    "cv_scores = []\n",
    "\n",
    "C_vals = 10.0 ** np.arange(-1.5, 2, 0.5)\n",
    "\n",
    "for C in C_vals:\n",
    "    #     print(C)\n",
    "    pipe = make_pipeline(\n",
    "        CountVectorizer(stop_words=\"english\", max_features=None),\n",
    "        LogisticRegression(max_iter=1000, C=C),\n",
    "    )\n",
    "    cv_results = cross_validate(pipe, X_train, y_train, return_train_score=True)\n",
    "\n",
    "    train_scores.append(cv_results[\"train_score\"].mean())\n",
    "    cv_scores.append(cv_results[\"test_score\"].mean())\n",
    "\n",
    "plt.semilogx(C_vals, train_scores, label=\"train\")\n",
    "plt.semilogx(C_vals, cv_scores, label=\"valid\")\n",
    "plt.legend()\n",
    "plt.xlabel(\"C\")\n",
    "plt.ylabel(\"accuracy\");"
   ]
  },
  {
   "cell_type": "code",
   "execution_count": 29,
   "metadata": {},
   "outputs": [
    {
     "data": {
      "text/html": [
       "<div>\n",
       "<style scoped>\n",
       "    .dataframe tbody tr th:only-of-type {\n",
       "        vertical-align: middle;\n",
       "    }\n",
       "\n",
       "    .dataframe tbody tr th {\n",
       "        vertical-align: top;\n",
       "    }\n",
       "\n",
       "    .dataframe thead th {\n",
       "        text-align: right;\n",
       "    }\n",
       "</style>\n",
       "<table border=\"1\" class=\"dataframe\">\n",
       "  <thead>\n",
       "    <tr style=\"text-align: right;\">\n",
       "      <th></th>\n",
       "      <th>C</th>\n",
       "      <th>train</th>\n",
       "      <th>cv</th>\n",
       "    </tr>\n",
       "  </thead>\n",
       "  <tbody>\n",
       "    <tr>\n",
       "      <th>0</th>\n",
       "      <td>0.031623</td>\n",
       "      <td>0.896898</td>\n",
       "      <td>0.878821</td>\n",
       "    </tr>\n",
       "    <tr>\n",
       "      <th>1</th>\n",
       "      <td>0.100000</td>\n",
       "      <td>0.919196</td>\n",
       "      <td>0.893277</td>\n",
       "    </tr>\n",
       "    <tr>\n",
       "      <th>2</th>\n",
       "      <td>0.316228</td>\n",
       "      <td>0.941333</td>\n",
       "      <td>0.897521</td>\n",
       "    </tr>\n",
       "    <tr>\n",
       "      <th>3</th>\n",
       "      <td>1.000000</td>\n",
       "      <td>0.967045</td>\n",
       "      <td>0.897890</td>\n",
       "    </tr>\n",
       "    <tr>\n",
       "      <th>4</th>\n",
       "      <td>3.162278</td>\n",
       "      <td>0.985675</td>\n",
       "      <td>0.894476</td>\n",
       "    </tr>\n",
       "    <tr>\n",
       "      <th>5</th>\n",
       "      <td>10.000000</td>\n",
       "      <td>0.993733</td>\n",
       "      <td>0.888140</td>\n",
       "    </tr>\n",
       "    <tr>\n",
       "      <th>6</th>\n",
       "      <td>31.622777</td>\n",
       "      <td>0.996578</td>\n",
       "      <td>0.881282</td>\n",
       "    </tr>\n",
       "  </tbody>\n",
       "</table>\n",
       "</div>"
      ],
      "text/plain": [
       "           C     train        cv\n",
       "0   0.031623  0.896898  0.878821\n",
       "1   0.100000  0.919196  0.893277\n",
       "2   0.316228  0.941333  0.897521\n",
       "3   1.000000  0.967045  0.897890\n",
       "4   3.162278  0.985675  0.894476\n",
       "5  10.000000  0.993733  0.888140\n",
       "6  31.622777  0.996578  0.881282"
      ]
     },
     "execution_count": 29,
     "metadata": {},
     "output_type": "execute_result"
    }
   ],
   "source": [
    "lr_df = pd.DataFrame({\"C\": C_vals, \"train\": train_scores, \"cv\": cv_scores})\n",
    "lr_df"
   ]
  },
  {
   "cell_type": "code",
   "execution_count": 30,
   "metadata": {},
   "outputs": [
    {
     "name": "stdout",
     "output_type": "stream",
     "text": [
      "best C:  1.0\n",
      "best cv: 0.8978900824847041\n"
     ]
    }
   ],
   "source": [
    "index = lr_df.idxmax()[\"cv\"]\n",
    "print(\"best C: \", lr_df.iloc[index][\"C\"])\n",
    "print(\"best cv:\", lr_df.iloc[index][\"cv\"])"
   ]
  },
  {
   "cell_type": "markdown",
   "metadata": {},
   "source": [
    "Based on the resulting df, the best C would be 1.0."
   ]
  },
  {
   "cell_type": "markdown",
   "metadata": {},
   "source": [
    "<br><br>"
   ]
  },
  {
   "cell_type": "markdown",
   "metadata": {},
   "source": [
    "#### 3(c)\n",
    "rubric={points:12}\n",
    "\n",
    "- Using `GridSearchCV`, jointly optimize `max_features` and `C` across all the combinations of values we tried above. \n",
    "  - Note: the code might be a bit slow here. \n",
    "  - Setting `n_jobs=-1` should speed it up if you have a multi-core processor.\n",
    "  - You can reduce the number of folds (e.g. `cv=2`) to speed it up if necessary.\n",
    "- What are the best values of `max_features` and `C` according to your grid search?\n",
    "- Do these best values agree with what you found in parts (a) and (b)?\n",
    "- Generally speaking, _should_ these values agree with what you found in parts (a) and (b)? Explain."
   ]
  },
  {
   "cell_type": "code",
   "execution_count": 31,
   "metadata": {},
   "outputs": [
    {
     "data": {
      "text/plain": [
       "dict_keys(['memory', 'steps', 'verbose', 'countvectorizer', 'logisticregression', 'countvectorizer__analyzer', 'countvectorizer__binary', 'countvectorizer__decode_error', 'countvectorizer__dtype', 'countvectorizer__encoding', 'countvectorizer__input', 'countvectorizer__lowercase', 'countvectorizer__max_df', 'countvectorizer__max_features', 'countvectorizer__min_df', 'countvectorizer__ngram_range', 'countvectorizer__preprocessor', 'countvectorizer__stop_words', 'countvectorizer__strip_accents', 'countvectorizer__token_pattern', 'countvectorizer__tokenizer', 'countvectorizer__vocabulary', 'logisticregression__C', 'logisticregression__class_weight', 'logisticregression__dual', 'logisticregression__fit_intercept', 'logisticregression__intercept_scaling', 'logisticregression__l1_ratio', 'logisticregression__max_iter', 'logisticregression__multi_class', 'logisticregression__n_jobs', 'logisticregression__penalty', 'logisticregression__random_state', 'logisticregression__solver', 'logisticregression__tol', 'logisticregression__verbose', 'logisticregression__warm_start'])"
      ]
     },
     "execution_count": 31,
     "metadata": {},
     "output_type": "execute_result"
    }
   ],
   "source": [
    "pipe = make_pipeline(CountVectorizer(stop_words=\"english\"), LogisticRegression(max_iter = 1000))\n",
    "pipe.get_params().keys()"
   ]
  },
  {
   "cell_type": "code",
   "execution_count": 32,
   "metadata": {},
   "outputs": [
    {
     "data": {
      "text/plain": [
       "GridSearchCV(cv=2,\n",
       "             estimator=Pipeline(steps=[('countvectorizer',\n",
       "                                        CountVectorizer(stop_words='english')),\n",
       "                                       ('logisticregression',\n",
       "                                        LogisticRegression(max_iter=1000))]),\n",
       "             n_jobs=-1,\n",
       "             param_grid={'countvectorizer__max_features': [10, 100, 1000, 10000,\n",
       "                                                           100000],\n",
       "                         'logisticregression__C': array([ 0.03162278,  0.1       ,  0.31622777,  1.        ,  3.16227766,\n",
       "       10.        , 31.6227766 ])},\n",
       "             return_train_score=True)"
      ]
     },
     "execution_count": 32,
     "metadata": {},
     "output_type": "execute_result"
    }
   ],
   "source": [
    "# get hyperparam keys we need from the param list above.\n",
    "param_grid = {\n",
    "    'countvectorizer__max_features': max_features,\n",
    "    'logisticregression__C': C_vals   \n",
    "}\n",
    "\n",
    "grid_search = GridSearchCV(\n",
    "    pipe, param_grid, cv=2, n_jobs=-1, return_train_score=True\n",
    ")\n",
    "\n",
    "grid_search.fit(X_train, y_train)"
   ]
  },
  {
   "cell_type": "code",
   "execution_count": 33,
   "metadata": {},
   "outputs": [
    {
     "data": {
      "text/html": [
       "<div>\n",
       "<style scoped>\n",
       "    .dataframe tbody tr th:only-of-type {\n",
       "        vertical-align: middle;\n",
       "    }\n",
       "\n",
       "    .dataframe tbody tr th {\n",
       "        vertical-align: top;\n",
       "    }\n",
       "\n",
       "    .dataframe thead th {\n",
       "        text-align: right;\n",
       "    }\n",
       "</style>\n",
       "<table border=\"1\" class=\"dataframe\">\n",
       "  <thead>\n",
       "    <tr style=\"text-align: right;\">\n",
       "      <th></th>\n",
       "      <th>0</th>\n",
       "      <th>1</th>\n",
       "      <th>2</th>\n",
       "      <th>3</th>\n",
       "      <th>4</th>\n",
       "      <th>5</th>\n",
       "      <th>6</th>\n",
       "      <th>7</th>\n",
       "      <th>8</th>\n",
       "      <th>9</th>\n",
       "      <th>...</th>\n",
       "      <th>25</th>\n",
       "      <th>26</th>\n",
       "      <th>27</th>\n",
       "      <th>28</th>\n",
       "      <th>29</th>\n",
       "      <th>30</th>\n",
       "      <th>31</th>\n",
       "      <th>32</th>\n",
       "      <th>33</th>\n",
       "      <th>34</th>\n",
       "    </tr>\n",
       "  </thead>\n",
       "  <tbody>\n",
       "    <tr>\n",
       "      <th>mean_fit_time</th>\n",
       "      <td>1.299025</td>\n",
       "      <td>1.699454</td>\n",
       "      <td>1.661555</td>\n",
       "      <td>1.288553</td>\n",
       "      <td>1.672024</td>\n",
       "      <td>1.633132</td>\n",
       "      <td>1.556335</td>\n",
       "      <td>1.575284</td>\n",
       "      <td>1.163389</td>\n",
       "      <td>1.335928</td>\n",
       "      <td>...</td>\n",
       "      <td>2.371158</td>\n",
       "      <td>3.031891</td>\n",
       "      <td>3.866159</td>\n",
       "      <td>1.705935</td>\n",
       "      <td>1.690977</td>\n",
       "      <td>1.959261</td>\n",
       "      <td>2.646922</td>\n",
       "      <td>3.504129</td>\n",
       "      <td>3.849204</td>\n",
       "      <td>4.185802</td>\n",
       "    </tr>\n",
       "    <tr>\n",
       "      <th>std_fit_time</th>\n",
       "      <td>0.032413</td>\n",
       "      <td>0.007979</td>\n",
       "      <td>0.128655</td>\n",
       "      <td>0.016955</td>\n",
       "      <td>0.110208</td>\n",
       "      <td>0.065326</td>\n",
       "      <td>0.074301</td>\n",
       "      <td>0.05635</td>\n",
       "      <td>0.004488</td>\n",
       "      <td>0.117188</td>\n",
       "      <td>...</td>\n",
       "      <td>0.061337</td>\n",
       "      <td>0.123667</td>\n",
       "      <td>0.056347</td>\n",
       "      <td>0.019446</td>\n",
       "      <td>0.032413</td>\n",
       "      <td>0.166056</td>\n",
       "      <td>0.076795</td>\n",
       "      <td>0.02543</td>\n",
       "      <td>0.086268</td>\n",
       "      <td>0.133642</td>\n",
       "    </tr>\n",
       "    <tr>\n",
       "      <th>mean_score_time</th>\n",
       "      <td>1.347894</td>\n",
       "      <td>1.400753</td>\n",
       "      <td>1.185835</td>\n",
       "      <td>1.197298</td>\n",
       "      <td>1.088089</td>\n",
       "      <td>1.199291</td>\n",
       "      <td>1.135462</td>\n",
       "      <td>1.205276</td>\n",
       "      <td>0.96891</td>\n",
       "      <td>0.929517</td>\n",
       "      <td>...</td>\n",
       "      <td>1.221733</td>\n",
       "      <td>1.110032</td>\n",
       "      <td>0.998829</td>\n",
       "      <td>0.978385</td>\n",
       "      <td>0.99135</td>\n",
       "      <td>1.151918</td>\n",
       "      <td>1.104544</td>\n",
       "      <td>0.996834</td>\n",
       "      <td>1.121999</td>\n",
       "      <td>0.6411</td>\n",
       "    </tr>\n",
       "    <tr>\n",
       "      <th>std_score_time</th>\n",
       "      <td>0.179021</td>\n",
       "      <td>0.12317</td>\n",
       "      <td>0.130644</td>\n",
       "      <td>0.092253</td>\n",
       "      <td>0.046875</td>\n",
       "      <td>0.234872</td>\n",
       "      <td>0.232877</td>\n",
       "      <td>0.21692</td>\n",
       "      <td>0.024434</td>\n",
       "      <td>0.013966</td>\n",
       "      <td>...</td>\n",
       "      <td>0.001994</td>\n",
       "      <td>0.069811</td>\n",
       "      <td>0.005487</td>\n",
       "      <td>0.015957</td>\n",
       "      <td>0.015957</td>\n",
       "      <td>0.057845</td>\n",
       "      <td>0.036403</td>\n",
       "      <td>0.071309</td>\n",
       "      <td>0.040891</td>\n",
       "      <td>0.077977</td>\n",
       "    </tr>\n",
       "    <tr>\n",
       "      <th>param_countvectorizer__max_features</th>\n",
       "      <td>10</td>\n",
       "      <td>10</td>\n",
       "      <td>10</td>\n",
       "      <td>10</td>\n",
       "      <td>10</td>\n",
       "      <td>10</td>\n",
       "      <td>10</td>\n",
       "      <td>100</td>\n",
       "      <td>100</td>\n",
       "      <td>100</td>\n",
       "      <td>...</td>\n",
       "      <td>10000</td>\n",
       "      <td>10000</td>\n",
       "      <td>10000</td>\n",
       "      <td>100000</td>\n",
       "      <td>100000</td>\n",
       "      <td>100000</td>\n",
       "      <td>100000</td>\n",
       "      <td>100000</td>\n",
       "      <td>100000</td>\n",
       "      <td>100000</td>\n",
       "    </tr>\n",
       "    <tr>\n",
       "      <th>param_logisticregression__C</th>\n",
       "      <td>0.031623</td>\n",
       "      <td>0.1</td>\n",
       "      <td>0.316228</td>\n",
       "      <td>1.0</td>\n",
       "      <td>3.162278</td>\n",
       "      <td>10.0</td>\n",
       "      <td>31.622777</td>\n",
       "      <td>0.031623</td>\n",
       "      <td>0.1</td>\n",
       "      <td>0.316228</td>\n",
       "      <td>...</td>\n",
       "      <td>3.162278</td>\n",
       "      <td>10.0</td>\n",
       "      <td>31.622777</td>\n",
       "      <td>0.031623</td>\n",
       "      <td>0.1</td>\n",
       "      <td>0.316228</td>\n",
       "      <td>1.0</td>\n",
       "      <td>3.162278</td>\n",
       "      <td>10.0</td>\n",
       "      <td>31.622777</td>\n",
       "    </tr>\n",
       "    <tr>\n",
       "      <th>params</th>\n",
       "      <td>{'countvectorizer__max_features': 10, 'logisti...</td>\n",
       "      <td>{'countvectorizer__max_features': 10, 'logisti...</td>\n",
       "      <td>{'countvectorizer__max_features': 10, 'logisti...</td>\n",
       "      <td>{'countvectorizer__max_features': 10, 'logisti...</td>\n",
       "      <td>{'countvectorizer__max_features': 10, 'logisti...</td>\n",
       "      <td>{'countvectorizer__max_features': 10, 'logisti...</td>\n",
       "      <td>{'countvectorizer__max_features': 10, 'logisti...</td>\n",
       "      <td>{'countvectorizer__max_features': 100, 'logist...</td>\n",
       "      <td>{'countvectorizer__max_features': 100, 'logist...</td>\n",
       "      <td>{'countvectorizer__max_features': 100, 'logist...</td>\n",
       "      <td>...</td>\n",
       "      <td>{'countvectorizer__max_features': 10000, 'logi...</td>\n",
       "      <td>{'countvectorizer__max_features': 10000, 'logi...</td>\n",
       "      <td>{'countvectorizer__max_features': 10000, 'logi...</td>\n",
       "      <td>{'countvectorizer__max_features': 100000, 'log...</td>\n",
       "      <td>{'countvectorizer__max_features': 100000, 'log...</td>\n",
       "      <td>{'countvectorizer__max_features': 100000, 'log...</td>\n",
       "      <td>{'countvectorizer__max_features': 100000, 'log...</td>\n",
       "      <td>{'countvectorizer__max_features': 100000, 'log...</td>\n",
       "      <td>{'countvectorizer__max_features': 100000, 'log...</td>\n",
       "      <td>{'countvectorizer__max_features': 100000, 'log...</td>\n",
       "    </tr>\n",
       "    <tr>\n",
       "      <th>split0_test_score</th>\n",
       "      <td>0.766439</td>\n",
       "      <td>0.766993</td>\n",
       "      <td>0.766993</td>\n",
       "      <td>0.767054</td>\n",
       "      <td>0.767054</td>\n",
       "      <td>0.767054</td>\n",
       "      <td>0.767054</td>\n",
       "      <td>0.832318</td>\n",
       "      <td>0.837116</td>\n",
       "      <td>0.837854</td>\n",
       "      <td>...</td>\n",
       "      <td>0.884481</td>\n",
       "      <td>0.879437</td>\n",
       "      <td>0.871132</td>\n",
       "      <td>0.87427</td>\n",
       "      <td>0.885711</td>\n",
       "      <td>0.891308</td>\n",
       "      <td>0.890693</td>\n",
       "      <td>0.88811</td>\n",
       "      <td>0.883496</td>\n",
       "      <td>0.877591</td>\n",
       "    </tr>\n",
       "    <tr>\n",
       "      <th>split1_test_score</th>\n",
       "      <td>0.762133</td>\n",
       "      <td>0.763117</td>\n",
       "      <td>0.766193</td>\n",
       "      <td>0.766255</td>\n",
       "      <td>0.766193</td>\n",
       "      <td>0.766193</td>\n",
       "      <td>0.766193</td>\n",
       "      <td>0.821677</td>\n",
       "      <td>0.834041</td>\n",
       "      <td>0.834287</td>\n",
       "      <td>...</td>\n",
       "      <td>0.887618</td>\n",
       "      <td>0.87876</td>\n",
       "      <td>0.866765</td>\n",
       "      <td>0.867442</td>\n",
       "      <td>0.887741</td>\n",
       "      <td>0.894322</td>\n",
       "      <td>0.893461</td>\n",
       "      <td>0.890017</td>\n",
       "      <td>0.882512</td>\n",
       "      <td>0.875377</td>\n",
       "    </tr>\n",
       "    <tr>\n",
       "      <th>mean_test_score</th>\n",
       "      <td>0.764286</td>\n",
       "      <td>0.765055</td>\n",
       "      <td>0.766593</td>\n",
       "      <td>0.766654</td>\n",
       "      <td>0.766624</td>\n",
       "      <td>0.766624</td>\n",
       "      <td>0.766624</td>\n",
       "      <td>0.826998</td>\n",
       "      <td>0.835579</td>\n",
       "      <td>0.836071</td>\n",
       "      <td>...</td>\n",
       "      <td>0.886049</td>\n",
       "      <td>0.879098</td>\n",
       "      <td>0.868949</td>\n",
       "      <td>0.870856</td>\n",
       "      <td>0.886726</td>\n",
       "      <td>0.892815</td>\n",
       "      <td>0.892077</td>\n",
       "      <td>0.889063</td>\n",
       "      <td>0.883004</td>\n",
       "      <td>0.876484</td>\n",
       "    </tr>\n",
       "    <tr>\n",
       "      <th>std_test_score</th>\n",
       "      <td>0.002153</td>\n",
       "      <td>0.001938</td>\n",
       "      <td>0.0004</td>\n",
       "      <td>0.0004</td>\n",
       "      <td>0.000431</td>\n",
       "      <td>0.000431</td>\n",
       "      <td>0.000431</td>\n",
       "      <td>0.005321</td>\n",
       "      <td>0.001538</td>\n",
       "      <td>0.001784</td>\n",
       "      <td>...</td>\n",
       "      <td>0.001569</td>\n",
       "      <td>0.000338</td>\n",
       "      <td>0.002184</td>\n",
       "      <td>0.003414</td>\n",
       "      <td>0.001015</td>\n",
       "      <td>0.001507</td>\n",
       "      <td>0.001384</td>\n",
       "      <td>0.000953</td>\n",
       "      <td>0.000492</td>\n",
       "      <td>0.001107</td>\n",
       "    </tr>\n",
       "    <tr>\n",
       "      <th>rank_test_score</th>\n",
       "      <td>35</td>\n",
       "      <td>34</td>\n",
       "      <td>33</td>\n",
       "      <td>29</td>\n",
       "      <td>30</td>\n",
       "      <td>30</td>\n",
       "      <td>30</td>\n",
       "      <td>28</td>\n",
       "      <td>27</td>\n",
       "      <td>22</td>\n",
       "      <td>...</td>\n",
       "      <td>8</td>\n",
       "      <td>15</td>\n",
       "      <td>20</td>\n",
       "      <td>18</td>\n",
       "      <td>7</td>\n",
       "      <td>1</td>\n",
       "      <td>3</td>\n",
       "      <td>5</td>\n",
       "      <td>10</td>\n",
       "      <td>17</td>\n",
       "    </tr>\n",
       "    <tr>\n",
       "      <th>split0_train_score</th>\n",
       "      <td>0.76687</td>\n",
       "      <td>0.766931</td>\n",
       "      <td>0.768346</td>\n",
       "      <td>0.768407</td>\n",
       "      <td>0.768407</td>\n",
       "      <td>0.768407</td>\n",
       "      <td>0.768407</td>\n",
       "      <td>0.833979</td>\n",
       "      <td>0.839208</td>\n",
       "      <td>0.840684</td>\n",
       "      <td>...</td>\n",
       "      <td>0.976133</td>\n",
       "      <td>0.986098</td>\n",
       "      <td>0.990773</td>\n",
       "      <td>0.892662</td>\n",
       "      <td>0.919481</td>\n",
       "      <td>0.946546</td>\n",
       "      <td>0.972689</td>\n",
       "      <td>0.989235</td>\n",
       "      <td>0.996248</td>\n",
       "      <td>0.997786</td>\n",
       "    </tr>\n",
       "    <tr>\n",
       "      <th>split1_train_score</th>\n",
       "      <td>0.763302</td>\n",
       "      <td>0.764532</td>\n",
       "      <td>0.7673</td>\n",
       "      <td>0.767239</td>\n",
       "      <td>0.767239</td>\n",
       "      <td>0.767239</td>\n",
       "      <td>0.767239</td>\n",
       "      <td>0.826229</td>\n",
       "      <td>0.8389</td>\n",
       "      <td>0.838777</td>\n",
       "      <td>...</td>\n",
       "      <td>0.977056</td>\n",
       "      <td>0.984807</td>\n",
       "      <td>0.989789</td>\n",
       "      <td>0.885834</td>\n",
       "      <td>0.920219</td>\n",
       "      <td>0.94507</td>\n",
       "      <td>0.972873</td>\n",
       "      <td>0.989789</td>\n",
       "      <td>0.995879</td>\n",
       "      <td>0.998216</td>\n",
       "    </tr>\n",
       "    <tr>\n",
       "      <th>mean_train_score</th>\n",
       "      <td>0.765086</td>\n",
       "      <td>0.765732</td>\n",
       "      <td>0.767823</td>\n",
       "      <td>0.767823</td>\n",
       "      <td>0.767823</td>\n",
       "      <td>0.767823</td>\n",
       "      <td>0.767823</td>\n",
       "      <td>0.830104</td>\n",
       "      <td>0.839054</td>\n",
       "      <td>0.839731</td>\n",
       "      <td>...</td>\n",
       "      <td>0.976595</td>\n",
       "      <td>0.985452</td>\n",
       "      <td>0.990281</td>\n",
       "      <td>0.889248</td>\n",
       "      <td>0.91985</td>\n",
       "      <td>0.945808</td>\n",
       "      <td>0.972781</td>\n",
       "      <td>0.989512</td>\n",
       "      <td>0.996063</td>\n",
       "      <td>0.998001</td>\n",
       "    </tr>\n",
       "    <tr>\n",
       "      <th>std_train_score</th>\n",
       "      <td>0.001784</td>\n",
       "      <td>0.001199</td>\n",
       "      <td>0.000523</td>\n",
       "      <td>0.000584</td>\n",
       "      <td>0.000584</td>\n",
       "      <td>0.000584</td>\n",
       "      <td>0.000584</td>\n",
       "      <td>0.003875</td>\n",
       "      <td>0.000154</td>\n",
       "      <td>0.000953</td>\n",
       "      <td>...</td>\n",
       "      <td>0.000461</td>\n",
       "      <td>0.000646</td>\n",
       "      <td>0.000492</td>\n",
       "      <td>0.003414</td>\n",
       "      <td>0.000369</td>\n",
       "      <td>0.000738</td>\n",
       "      <td>0.000092</td>\n",
       "      <td>0.000277</td>\n",
       "      <td>0.000185</td>\n",
       "      <td>0.000215</td>\n",
       "    </tr>\n",
       "  </tbody>\n",
       "</table>\n",
       "<p>16 rows × 35 columns</p>\n",
       "</div>"
      ],
      "text/plain": [
       "                                                                                    0   \\\n",
       "mean_fit_time                                                                 1.299025   \n",
       "std_fit_time                                                                  0.032413   \n",
       "mean_score_time                                                               1.347894   \n",
       "std_score_time                                                                0.179021   \n",
       "param_countvectorizer__max_features                                                 10   \n",
       "param_logisticregression__C                                                   0.031623   \n",
       "params                               {'countvectorizer__max_features': 10, 'logisti...   \n",
       "split0_test_score                                                             0.766439   \n",
       "split1_test_score                                                             0.762133   \n",
       "mean_test_score                                                               0.764286   \n",
       "std_test_score                                                                0.002153   \n",
       "rank_test_score                                                                     35   \n",
       "split0_train_score                                                             0.76687   \n",
       "split1_train_score                                                            0.763302   \n",
       "mean_train_score                                                              0.765086   \n",
       "std_train_score                                                               0.001784   \n",
       "\n",
       "                                                                                    1   \\\n",
       "mean_fit_time                                                                 1.699454   \n",
       "std_fit_time                                                                  0.007979   \n",
       "mean_score_time                                                               1.400753   \n",
       "std_score_time                                                                 0.12317   \n",
       "param_countvectorizer__max_features                                                 10   \n",
       "param_logisticregression__C                                                        0.1   \n",
       "params                               {'countvectorizer__max_features': 10, 'logisti...   \n",
       "split0_test_score                                                             0.766993   \n",
       "split1_test_score                                                             0.763117   \n",
       "mean_test_score                                                               0.765055   \n",
       "std_test_score                                                                0.001938   \n",
       "rank_test_score                                                                     34   \n",
       "split0_train_score                                                            0.766931   \n",
       "split1_train_score                                                            0.764532   \n",
       "mean_train_score                                                              0.765732   \n",
       "std_train_score                                                               0.001199   \n",
       "\n",
       "                                                                                    2   \\\n",
       "mean_fit_time                                                                 1.661555   \n",
       "std_fit_time                                                                  0.128655   \n",
       "mean_score_time                                                               1.185835   \n",
       "std_score_time                                                                0.130644   \n",
       "param_countvectorizer__max_features                                                 10   \n",
       "param_logisticregression__C                                                   0.316228   \n",
       "params                               {'countvectorizer__max_features': 10, 'logisti...   \n",
       "split0_test_score                                                             0.766993   \n",
       "split1_test_score                                                             0.766193   \n",
       "mean_test_score                                                               0.766593   \n",
       "std_test_score                                                                  0.0004   \n",
       "rank_test_score                                                                     33   \n",
       "split0_train_score                                                            0.768346   \n",
       "split1_train_score                                                              0.7673   \n",
       "mean_train_score                                                              0.767823   \n",
       "std_train_score                                                               0.000523   \n",
       "\n",
       "                                                                                    3   \\\n",
       "mean_fit_time                                                                 1.288553   \n",
       "std_fit_time                                                                  0.016955   \n",
       "mean_score_time                                                               1.197298   \n",
       "std_score_time                                                                0.092253   \n",
       "param_countvectorizer__max_features                                                 10   \n",
       "param_logisticregression__C                                                        1.0   \n",
       "params                               {'countvectorizer__max_features': 10, 'logisti...   \n",
       "split0_test_score                                                             0.767054   \n",
       "split1_test_score                                                             0.766255   \n",
       "mean_test_score                                                               0.766654   \n",
       "std_test_score                                                                  0.0004   \n",
       "rank_test_score                                                                     29   \n",
       "split0_train_score                                                            0.768407   \n",
       "split1_train_score                                                            0.767239   \n",
       "mean_train_score                                                              0.767823   \n",
       "std_train_score                                                               0.000584   \n",
       "\n",
       "                                                                                    4   \\\n",
       "mean_fit_time                                                                 1.672024   \n",
       "std_fit_time                                                                  0.110208   \n",
       "mean_score_time                                                               1.088089   \n",
       "std_score_time                                                                0.046875   \n",
       "param_countvectorizer__max_features                                                 10   \n",
       "param_logisticregression__C                                                   3.162278   \n",
       "params                               {'countvectorizer__max_features': 10, 'logisti...   \n",
       "split0_test_score                                                             0.767054   \n",
       "split1_test_score                                                             0.766193   \n",
       "mean_test_score                                                               0.766624   \n",
       "std_test_score                                                                0.000431   \n",
       "rank_test_score                                                                     30   \n",
       "split0_train_score                                                            0.768407   \n",
       "split1_train_score                                                            0.767239   \n",
       "mean_train_score                                                              0.767823   \n",
       "std_train_score                                                               0.000584   \n",
       "\n",
       "                                                                                    5   \\\n",
       "mean_fit_time                                                                 1.633132   \n",
       "std_fit_time                                                                  0.065326   \n",
       "mean_score_time                                                               1.199291   \n",
       "std_score_time                                                                0.234872   \n",
       "param_countvectorizer__max_features                                                 10   \n",
       "param_logisticregression__C                                                       10.0   \n",
       "params                               {'countvectorizer__max_features': 10, 'logisti...   \n",
       "split0_test_score                                                             0.767054   \n",
       "split1_test_score                                                             0.766193   \n",
       "mean_test_score                                                               0.766624   \n",
       "std_test_score                                                                0.000431   \n",
       "rank_test_score                                                                     30   \n",
       "split0_train_score                                                            0.768407   \n",
       "split1_train_score                                                            0.767239   \n",
       "mean_train_score                                                              0.767823   \n",
       "std_train_score                                                               0.000584   \n",
       "\n",
       "                                                                                    6   \\\n",
       "mean_fit_time                                                                 1.556335   \n",
       "std_fit_time                                                                  0.074301   \n",
       "mean_score_time                                                               1.135462   \n",
       "std_score_time                                                                0.232877   \n",
       "param_countvectorizer__max_features                                                 10   \n",
       "param_logisticregression__C                                                  31.622777   \n",
       "params                               {'countvectorizer__max_features': 10, 'logisti...   \n",
       "split0_test_score                                                             0.767054   \n",
       "split1_test_score                                                             0.766193   \n",
       "mean_test_score                                                               0.766624   \n",
       "std_test_score                                                                0.000431   \n",
       "rank_test_score                                                                     30   \n",
       "split0_train_score                                                            0.768407   \n",
       "split1_train_score                                                            0.767239   \n",
       "mean_train_score                                                              0.767823   \n",
       "std_train_score                                                               0.000584   \n",
       "\n",
       "                                                                                    7   \\\n",
       "mean_fit_time                                                                 1.575284   \n",
       "std_fit_time                                                                   0.05635   \n",
       "mean_score_time                                                               1.205276   \n",
       "std_score_time                                                                 0.21692   \n",
       "param_countvectorizer__max_features                                                100   \n",
       "param_logisticregression__C                                                   0.031623   \n",
       "params                               {'countvectorizer__max_features': 100, 'logist...   \n",
       "split0_test_score                                                             0.832318   \n",
       "split1_test_score                                                             0.821677   \n",
       "mean_test_score                                                               0.826998   \n",
       "std_test_score                                                                0.005321   \n",
       "rank_test_score                                                                     28   \n",
       "split0_train_score                                                            0.833979   \n",
       "split1_train_score                                                            0.826229   \n",
       "mean_train_score                                                              0.830104   \n",
       "std_train_score                                                               0.003875   \n",
       "\n",
       "                                                                                    8   \\\n",
       "mean_fit_time                                                                 1.163389   \n",
       "std_fit_time                                                                  0.004488   \n",
       "mean_score_time                                                                0.96891   \n",
       "std_score_time                                                                0.024434   \n",
       "param_countvectorizer__max_features                                                100   \n",
       "param_logisticregression__C                                                        0.1   \n",
       "params                               {'countvectorizer__max_features': 100, 'logist...   \n",
       "split0_test_score                                                             0.837116   \n",
       "split1_test_score                                                             0.834041   \n",
       "mean_test_score                                                               0.835579   \n",
       "std_test_score                                                                0.001538   \n",
       "rank_test_score                                                                     27   \n",
       "split0_train_score                                                            0.839208   \n",
       "split1_train_score                                                              0.8389   \n",
       "mean_train_score                                                              0.839054   \n",
       "std_train_score                                                               0.000154   \n",
       "\n",
       "                                                                                    9   \\\n",
       "mean_fit_time                                                                 1.335928   \n",
       "std_fit_time                                                                  0.117188   \n",
       "mean_score_time                                                               0.929517   \n",
       "std_score_time                                                                0.013966   \n",
       "param_countvectorizer__max_features                                                100   \n",
       "param_logisticregression__C                                                   0.316228   \n",
       "params                               {'countvectorizer__max_features': 100, 'logist...   \n",
       "split0_test_score                                                             0.837854   \n",
       "split1_test_score                                                             0.834287   \n",
       "mean_test_score                                                               0.836071   \n",
       "std_test_score                                                                0.001784   \n",
       "rank_test_score                                                                     22   \n",
       "split0_train_score                                                            0.840684   \n",
       "split1_train_score                                                            0.838777   \n",
       "mean_train_score                                                              0.839731   \n",
       "std_train_score                                                               0.000953   \n",
       "\n",
       "                                     ...  \\\n",
       "mean_fit_time                        ...   \n",
       "std_fit_time                         ...   \n",
       "mean_score_time                      ...   \n",
       "std_score_time                       ...   \n",
       "param_countvectorizer__max_features  ...   \n",
       "param_logisticregression__C          ...   \n",
       "params                               ...   \n",
       "split0_test_score                    ...   \n",
       "split1_test_score                    ...   \n",
       "mean_test_score                      ...   \n",
       "std_test_score                       ...   \n",
       "rank_test_score                      ...   \n",
       "split0_train_score                   ...   \n",
       "split1_train_score                   ...   \n",
       "mean_train_score                     ...   \n",
       "std_train_score                      ...   \n",
       "\n",
       "                                                                                    25  \\\n",
       "mean_fit_time                                                                 2.371158   \n",
       "std_fit_time                                                                  0.061337   \n",
       "mean_score_time                                                               1.221733   \n",
       "std_score_time                                                                0.001994   \n",
       "param_countvectorizer__max_features                                              10000   \n",
       "param_logisticregression__C                                                   3.162278   \n",
       "params                               {'countvectorizer__max_features': 10000, 'logi...   \n",
       "split0_test_score                                                             0.884481   \n",
       "split1_test_score                                                             0.887618   \n",
       "mean_test_score                                                               0.886049   \n",
       "std_test_score                                                                0.001569   \n",
       "rank_test_score                                                                      8   \n",
       "split0_train_score                                                            0.976133   \n",
       "split1_train_score                                                            0.977056   \n",
       "mean_train_score                                                              0.976595   \n",
       "std_train_score                                                               0.000461   \n",
       "\n",
       "                                                                                    26  \\\n",
       "mean_fit_time                                                                 3.031891   \n",
       "std_fit_time                                                                  0.123667   \n",
       "mean_score_time                                                               1.110032   \n",
       "std_score_time                                                                0.069811   \n",
       "param_countvectorizer__max_features                                              10000   \n",
       "param_logisticregression__C                                                       10.0   \n",
       "params                               {'countvectorizer__max_features': 10000, 'logi...   \n",
       "split0_test_score                                                             0.879437   \n",
       "split1_test_score                                                              0.87876   \n",
       "mean_test_score                                                               0.879098   \n",
       "std_test_score                                                                0.000338   \n",
       "rank_test_score                                                                     15   \n",
       "split0_train_score                                                            0.986098   \n",
       "split1_train_score                                                            0.984807   \n",
       "mean_train_score                                                              0.985452   \n",
       "std_train_score                                                               0.000646   \n",
       "\n",
       "                                                                                    27  \\\n",
       "mean_fit_time                                                                 3.866159   \n",
       "std_fit_time                                                                  0.056347   \n",
       "mean_score_time                                                               0.998829   \n",
       "std_score_time                                                                0.005487   \n",
       "param_countvectorizer__max_features                                              10000   \n",
       "param_logisticregression__C                                                  31.622777   \n",
       "params                               {'countvectorizer__max_features': 10000, 'logi...   \n",
       "split0_test_score                                                             0.871132   \n",
       "split1_test_score                                                             0.866765   \n",
       "mean_test_score                                                               0.868949   \n",
       "std_test_score                                                                0.002184   \n",
       "rank_test_score                                                                     20   \n",
       "split0_train_score                                                            0.990773   \n",
       "split1_train_score                                                            0.989789   \n",
       "mean_train_score                                                              0.990281   \n",
       "std_train_score                                                               0.000492   \n",
       "\n",
       "                                                                                    28  \\\n",
       "mean_fit_time                                                                 1.705935   \n",
       "std_fit_time                                                                  0.019446   \n",
       "mean_score_time                                                               0.978385   \n",
       "std_score_time                                                                0.015957   \n",
       "param_countvectorizer__max_features                                             100000   \n",
       "param_logisticregression__C                                                   0.031623   \n",
       "params                               {'countvectorizer__max_features': 100000, 'log...   \n",
       "split0_test_score                                                              0.87427   \n",
       "split1_test_score                                                             0.867442   \n",
       "mean_test_score                                                               0.870856   \n",
       "std_test_score                                                                0.003414   \n",
       "rank_test_score                                                                     18   \n",
       "split0_train_score                                                            0.892662   \n",
       "split1_train_score                                                            0.885834   \n",
       "mean_train_score                                                              0.889248   \n",
       "std_train_score                                                               0.003414   \n",
       "\n",
       "                                                                                    29  \\\n",
       "mean_fit_time                                                                 1.690977   \n",
       "std_fit_time                                                                  0.032413   \n",
       "mean_score_time                                                                0.99135   \n",
       "std_score_time                                                                0.015957   \n",
       "param_countvectorizer__max_features                                             100000   \n",
       "param_logisticregression__C                                                        0.1   \n",
       "params                               {'countvectorizer__max_features': 100000, 'log...   \n",
       "split0_test_score                                                             0.885711   \n",
       "split1_test_score                                                             0.887741   \n",
       "mean_test_score                                                               0.886726   \n",
       "std_test_score                                                                0.001015   \n",
       "rank_test_score                                                                      7   \n",
       "split0_train_score                                                            0.919481   \n",
       "split1_train_score                                                            0.920219   \n",
       "mean_train_score                                                               0.91985   \n",
       "std_train_score                                                               0.000369   \n",
       "\n",
       "                                                                                    30  \\\n",
       "mean_fit_time                                                                 1.959261   \n",
       "std_fit_time                                                                  0.166056   \n",
       "mean_score_time                                                               1.151918   \n",
       "std_score_time                                                                0.057845   \n",
       "param_countvectorizer__max_features                                             100000   \n",
       "param_logisticregression__C                                                   0.316228   \n",
       "params                               {'countvectorizer__max_features': 100000, 'log...   \n",
       "split0_test_score                                                             0.891308   \n",
       "split1_test_score                                                             0.894322   \n",
       "mean_test_score                                                               0.892815   \n",
       "std_test_score                                                                0.001507   \n",
       "rank_test_score                                                                      1   \n",
       "split0_train_score                                                            0.946546   \n",
       "split1_train_score                                                             0.94507   \n",
       "mean_train_score                                                              0.945808   \n",
       "std_train_score                                                               0.000738   \n",
       "\n",
       "                                                                                    31  \\\n",
       "mean_fit_time                                                                 2.646922   \n",
       "std_fit_time                                                                  0.076795   \n",
       "mean_score_time                                                               1.104544   \n",
       "std_score_time                                                                0.036403   \n",
       "param_countvectorizer__max_features                                             100000   \n",
       "param_logisticregression__C                                                        1.0   \n",
       "params                               {'countvectorizer__max_features': 100000, 'log...   \n",
       "split0_test_score                                                             0.890693   \n",
       "split1_test_score                                                             0.893461   \n",
       "mean_test_score                                                               0.892077   \n",
       "std_test_score                                                                0.001384   \n",
       "rank_test_score                                                                      3   \n",
       "split0_train_score                                                            0.972689   \n",
       "split1_train_score                                                            0.972873   \n",
       "mean_train_score                                                              0.972781   \n",
       "std_train_score                                                               0.000092   \n",
       "\n",
       "                                                                                    32  \\\n",
       "mean_fit_time                                                                 3.504129   \n",
       "std_fit_time                                                                   0.02543   \n",
       "mean_score_time                                                               0.996834   \n",
       "std_score_time                                                                0.071309   \n",
       "param_countvectorizer__max_features                                             100000   \n",
       "param_logisticregression__C                                                   3.162278   \n",
       "params                               {'countvectorizer__max_features': 100000, 'log...   \n",
       "split0_test_score                                                              0.88811   \n",
       "split1_test_score                                                             0.890017   \n",
       "mean_test_score                                                               0.889063   \n",
       "std_test_score                                                                0.000953   \n",
       "rank_test_score                                                                      5   \n",
       "split0_train_score                                                            0.989235   \n",
       "split1_train_score                                                            0.989789   \n",
       "mean_train_score                                                              0.989512   \n",
       "std_train_score                                                               0.000277   \n",
       "\n",
       "                                                                                    33  \\\n",
       "mean_fit_time                                                                 3.849204   \n",
       "std_fit_time                                                                  0.086268   \n",
       "mean_score_time                                                               1.121999   \n",
       "std_score_time                                                                0.040891   \n",
       "param_countvectorizer__max_features                                             100000   \n",
       "param_logisticregression__C                                                       10.0   \n",
       "params                               {'countvectorizer__max_features': 100000, 'log...   \n",
       "split0_test_score                                                             0.883496   \n",
       "split1_test_score                                                             0.882512   \n",
       "mean_test_score                                                               0.883004   \n",
       "std_test_score                                                                0.000492   \n",
       "rank_test_score                                                                     10   \n",
       "split0_train_score                                                            0.996248   \n",
       "split1_train_score                                                            0.995879   \n",
       "mean_train_score                                                              0.996063   \n",
       "std_train_score                                                               0.000185   \n",
       "\n",
       "                                                                                    34  \n",
       "mean_fit_time                                                                 4.185802  \n",
       "std_fit_time                                                                  0.133642  \n",
       "mean_score_time                                                                 0.6411  \n",
       "std_score_time                                                                0.077977  \n",
       "param_countvectorizer__max_features                                             100000  \n",
       "param_logisticregression__C                                                  31.622777  \n",
       "params                               {'countvectorizer__max_features': 100000, 'log...  \n",
       "split0_test_score                                                             0.877591  \n",
       "split1_test_score                                                             0.875377  \n",
       "mean_test_score                                                               0.876484  \n",
       "std_test_score                                                                0.001107  \n",
       "rank_test_score                                                                     17  \n",
       "split0_train_score                                                            0.997786  \n",
       "split1_train_score                                                            0.998216  \n",
       "mean_train_score                                                              0.998001  \n",
       "std_train_score                                                               0.000215  \n",
       "\n",
       "[16 rows x 35 columns]"
      ]
     },
     "execution_count": 33,
     "metadata": {},
     "output_type": "execute_result"
    }
   ],
   "source": [
    "results = pd.DataFrame(grid_search.cv_results_)\n",
    "results.T"
   ]
  },
  {
   "cell_type": "code",
   "execution_count": 34,
   "metadata": {},
   "outputs": [
    {
     "data": {
      "text/plain": [
       "{'countvectorizer__max_features': 100000,\n",
       " 'logisticregression__C': 0.31622776601683794}"
      ]
     },
     "execution_count": 34,
     "metadata": {},
     "output_type": "execute_result"
    }
   ],
   "source": [
    "grid_search.best_params_"
   ]
  },
  {
   "cell_type": "markdown",
   "metadata": {},
   "source": [
    "This result agrees with values found in parts a) and b).\n",
    "\n"
   ]
  },
  {
   "cell_type": "markdown",
   "metadata": {},
   "source": [
    "<br><br>"
   ]
  },
  {
   "cell_type": "markdown",
   "metadata": {},
   "source": [
    "#### 3(d)\n",
    "rubric={points:5}\n",
    "\n",
    "- Evaluate your final model on the test set. \n",
    "- How does your test accuracy compare to your validation accuracy? \n",
    "- If they are different: do you think this is because you \"overfitted on the validation set\", or simply random luck?"
   ]
  },
  {
   "cell_type": "code",
   "execution_count": 35,
   "metadata": {},
   "outputs": [
    {
     "data": {
      "text/plain": [
       "100000"
      ]
     },
     "execution_count": 35,
     "metadata": {},
     "output_type": "execute_result"
    }
   ],
   "source": [
    "best_mf = grid_search.best_params_['countvectorizer__max_features']\n",
    "best_mf"
   ]
  },
  {
   "cell_type": "code",
   "execution_count": 36,
   "metadata": {},
   "outputs": [
    {
     "data": {
      "text/plain": [
       "0.31622776601683794"
      ]
     },
     "execution_count": 36,
     "metadata": {},
     "output_type": "execute_result"
    }
   ],
   "source": [
    "best_C = grid_search.best_params_['logisticregression__C']\n",
    "best_C"
   ]
  },
  {
   "cell_type": "code",
   "execution_count": 37,
   "metadata": {},
   "outputs": [
    {
     "data": {
      "text/plain": [
       "0.8985975272190441"
      ]
     },
     "execution_count": 37,
     "metadata": {},
     "output_type": "execute_result"
    }
   ],
   "source": [
    "# make pipeline\n",
    "pipe = make_pipeline(\n",
    "    CountVectorizer(stop_words=\"english\", max_features= best_mf),\n",
    "    LogisticRegression(max_iter=1000, C= best_C),\n",
    ")\n",
    "\n",
    "# fit on our training model\n",
    "pipe.fit(X_train, y_train)\n",
    "\n",
    "# score on test set\n",
    "pipe.score(X_test, y_test)"
   ]
  },
  {
   "cell_type": "markdown",
   "metadata": {},
   "source": [
    "<br><br><br><br>"
   ]
  },
  {
   "cell_type": "markdown",
   "metadata": {},
   "source": [
    "## Exercise 4: Very short answer questions\n",
    "rubric={points:10}\n",
    "\n",
    "Each question is worth 2 points. Max 2 sentences per answer."
   ]
  },
  {
   "cell_type": "markdown",
   "metadata": {},
   "source": [
    "1. What is the problem with calling `fit_transform` on your test data with `CountVectorizer`? \n",
    "2. Why is it important to follow the Golden Rule? If you violate it, will that give you a worse classifier?\n",
    "3. If you could only access one of `predict` or `predict_proba`, which one would you choose? Briefly explain.\n",
    "4. What are two advantages of using sklearn `Pipeline`s? \n",
    "5. What are two advantages of `RandomizedSearchCV` over `GridSearchCV`?"
   ]
  },
  {
   "cell_type": "raw",
   "metadata": {},
   "source": [
    "1. This would break the golden rule: you should not let the test data influence the training stage at all, so you shouldn't fit on the test data. Instead do fit_transform on the training data and transform only on the test data."
   ]
  },
  {
   "cell_type": "raw",
   "metadata": {},
   "source": [
    "2. The test data is supposed to act as unseen data so we can estimate how well our model would generalize to production data. If we let the test data influence the training data we could end up with a biased accuracy and settle on a model that wouldn't perform well on production data."
   ]
  },
  {
   "cell_type": "raw",
   "metadata": {},
   "source": [
    "3. I would access predict_proba because it gives me more information (probabilities of each class) which can be useful. If I wanted to know the predicted classes I could determine that looking at the class with higher probability so I wouldn't need predict."
   ]
  },
  {
   "cell_type": "raw",
   "metadata": {},
   "source": [
    "4. They make chaining multiple preprocessing and model steps much more readable and easy to follow along compared to if you didn't use pipeline. This pipeline can also be passed into cross validation to automate the appropriate steps on the training and validation portions in each fold."
   ]
  },
  {
   "cell_type": "raw",
   "metadata": {},
   "source": [
    "5. RandomizedSearchCV is faster than GridSearchCV which grows exponentially as the dimension space of the configurations increases. It is also better at capturing helpful points where the parameters have different importance."
   ]
  },
  {
   "cell_type": "markdown",
   "metadata": {},
   "source": [
    "<br><br><br><br>"
   ]
  },
  {
   "cell_type": "markdown",
   "metadata": {},
   "source": [
    "## Submission instructions \n",
    "\n",
    "**PLEASE READ:** When you are ready to submit your assignment do the following:\n",
    "\n",
    "1. Run all cells in your notebook to make sure there are no errors by doing `Kernel -> Restart Kernel and Clear All Outputs` and then `Run -> Run All Cells`. \n",
    "2. Notebooks with cell execution numbers out of order or not starting from “1” will have marks deducted. Notebooks without the output displayed may not be graded at all (because we need to see the output in order to grade your work).\n",
    "3. Upload the assignment using Gradescope's drag and drop tool. Check out this [Gradescope Student Guide](https://lthub.ubc.ca/guides/gradescope-student-guide/) if you need help with Gradescope submission. "
   ]
  }
 ],
 "metadata": {
  "celltoolbar": "Create Assignment",
  "kernelspec": {
   "display_name": "Python [conda env:cpsc330]",
   "language": "python",
   "name": "conda-env-cpsc330-py"
  },
  "language_info": {
   "codemirror_mode": {
    "name": "ipython",
    "version": 3
   },
   "file_extension": ".py",
   "mimetype": "text/x-python",
   "name": "python",
   "nbconvert_exporter": "python",
   "pygments_lexer": "ipython3",
   "version": "3.9.7"
  }
 },
 "nbformat": 4,
 "nbformat_minor": 4
}
